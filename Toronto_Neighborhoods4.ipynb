{
 "cells": [
  {
   "cell_type": "markdown",
   "metadata": {},
   "source": [
    "This project will open and modify a dataframe containing information on Canadian neighborhoods."
   ]
  },
  {
   "cell_type": "markdown",
   "metadata": {},
   "source": [
    "Import necessary libaries"
   ]
  },
  {
   "cell_type": "code",
   "execution_count": 114,
   "metadata": {},
   "outputs": [],
   "source": [
    "import pandas as pd\n",
    "import requests\n",
    "from bs4 import BeautifulSoup\n",
    "from sklearn.cluster import KMeans\n",
    "import folium\n",
    "import matplotlib.cm as cm\n",
    "import matplotlib.colors as colors"
   ]
  },
  {
   "cell_type": "markdown",
   "metadata": {},
   "source": [
    "Scrape the table from URL"
   ]
  },
  {
   "cell_type": "code",
   "execution_count": 99,
   "metadata": {},
   "outputs": [],
   "source": [
    "url = 'https://en.wikipedia.org/wiki/List_of_postal_codes_of_Canada:_M'\n",
    "page_request = requests.get(url).text\n",
    "soup = BeautifulSoup(page_request, 'lxml')\n",
    "\n",
    "table = soup.find('table')\n",
    "data_rows = table.findAll('tr') \n",
    "data = [[td.getText().strip() for td in data_rows[i].findAll(['td','th'])]\n",
    "    for i in range(len(data_rows))]"
   ]
  },
  {
   "cell_type": "markdown",
   "metadata": {},
   "source": [
    "Create dataframe and clean it"
   ]
  },
  {
   "cell_type": "code",
   "execution_count": 100,
   "metadata": {},
   "outputs": [],
   "source": [
    "data_df = pd.DataFrame(data,columns=['Postal Code','Borough','Neighborhood']).iloc[1:]\n",
    "data_df = data_df[data_df.Borough != 'Not assigned']"
   ]
  },
  {
   "cell_type": "markdown",
   "metadata": {},
   "source": [
    "Print the shape of dataframe"
   ]
  },
  {
   "cell_type": "code",
   "execution_count": 101,
   "metadata": {},
   "outputs": [
    {
     "name": "stdout",
     "output_type": "stream",
     "text": [
      "(103, 3)\n"
     ]
    }
   ],
   "source": [
    "print(data_df.shape)"
   ]
  },
  {
   "cell_type": "markdown",
   "metadata": {},
   "source": [
    "Retrieve Latitude and longitude for neighborhoods"
   ]
  },
  {
   "cell_type": "code",
   "execution_count": 102,
   "metadata": {},
   "outputs": [
    {
     "name": "stdout",
     "output_type": "stream",
     "text": [
      "    Postal Code           Borough  \\\n",
      "0           M3A        North York   \n",
      "1           M4A        North York   \n",
      "2           M5A  Downtown Toronto   \n",
      "3           M6A        North York   \n",
      "4           M7A  Downtown Toronto   \n",
      "5           M9A         Etobicoke   \n",
      "6           M1B       Scarborough   \n",
      "7           M3B        North York   \n",
      "8           M4B         East York   \n",
      "9           M5B  Downtown Toronto   \n",
      "10          M6B        North York   \n",
      "11          M9B         Etobicoke   \n",
      "12          M1C       Scarborough   \n",
      "13          M3C        North York   \n",
      "14          M4C         East York   \n",
      "15          M5C  Downtown Toronto   \n",
      "16          M6C              York   \n",
      "17          M9C         Etobicoke   \n",
      "18          M1E       Scarborough   \n",
      "19          M4E      East Toronto   \n",
      "20          M5E  Downtown Toronto   \n",
      "21          M6E              York   \n",
      "22          M1G       Scarborough   \n",
      "23          M4G         East York   \n",
      "24          M5G  Downtown Toronto   \n",
      "25          M6G  Downtown Toronto   \n",
      "26          M1H       Scarborough   \n",
      "27          M2H        North York   \n",
      "28          M3H        North York   \n",
      "29          M4H         East York   \n",
      "..          ...               ...   \n",
      "73          M4R   Central Toronto   \n",
      "74          M5R   Central Toronto   \n",
      "75          M6R      West Toronto   \n",
      "76          M7R       Mississauga   \n",
      "77          M9R         Etobicoke   \n",
      "78          M1S       Scarborough   \n",
      "79          M4S   Central Toronto   \n",
      "80          M5S  Downtown Toronto   \n",
      "81          M6S      West Toronto   \n",
      "82          M1T       Scarborough   \n",
      "83          M4T   Central Toronto   \n",
      "84          M5T  Downtown Toronto   \n",
      "85          M1V       Scarborough   \n",
      "86          M4V   Central Toronto   \n",
      "87          M5V  Downtown Toronto   \n",
      "88          M8V         Etobicoke   \n",
      "89          M9V         Etobicoke   \n",
      "90          M1W       Scarborough   \n",
      "91          M4W  Downtown Toronto   \n",
      "92          M5W  Downtown Toronto   \n",
      "93          M8W         Etobicoke   \n",
      "94          M9W         Etobicoke   \n",
      "95          M1X       Scarborough   \n",
      "96          M4X  Downtown Toronto   \n",
      "97          M5X  Downtown Toronto   \n",
      "98          M8X         Etobicoke   \n",
      "99          M4Y  Downtown Toronto   \n",
      "100         M7Y      East Toronto   \n",
      "101         M8Y         Etobicoke   \n",
      "102         M8Z         Etobicoke   \n",
      "\n",
      "                                          Neighborhood   Latitude  Longitude  \n",
      "0                                            Parkwoods  43.753259 -79.329656  \n",
      "1                                     Victoria Village  43.725882 -79.315572  \n",
      "2                            Regent Park, Harbourfront  43.654260 -79.360636  \n",
      "3                     Lawrence Manor, Lawrence Heights  43.718518 -79.464763  \n",
      "4          Queen's Park, Ontario Provincial Government  43.662301 -79.389494  \n",
      "5              Islington Avenue, Humber Valley Village  43.667856 -79.532242  \n",
      "6                                       Malvern, Rouge  43.806686 -79.194353  \n",
      "7                                            Don Mills  43.745906 -79.352188  \n",
      "8                      Parkview Hill, Woodbine Gardens  43.706397 -79.309937  \n",
      "9                             Garden District, Ryerson  43.657162 -79.378937  \n",
      "10                                           Glencairn  43.709577 -79.445073  \n",
      "11   West Deane Park, Princess Gardens, Martin Grov...  43.650943 -79.554724  \n",
      "12              Rouge Hill, Port Union, Highland Creek  43.784535 -79.160497  \n",
      "13                                           Don Mills  43.725900 -79.340923  \n",
      "14                                    Woodbine Heights  43.695344 -79.318389  \n",
      "15                                      St. James Town  43.651494 -79.375418  \n",
      "16                                  Humewood-Cedarvale  43.693781 -79.428191  \n",
      "17   Eringate, Bloordale Gardens, Old Burnhamthorpe...  43.643515 -79.577201  \n",
      "18                   Guildwood, Morningside, West Hill  43.763573 -79.188711  \n",
      "19                                         The Beaches  43.676357 -79.293031  \n",
      "20                                         Berczy Park  43.644771 -79.373306  \n",
      "21                                 Caledonia-Fairbanks  43.689026 -79.453512  \n",
      "22                                              Woburn  43.770992 -79.216917  \n",
      "23                                             Leaside  43.709060 -79.363452  \n",
      "24                                  Central Bay Street  43.657952 -79.387383  \n",
      "25                                            Christie  43.669542 -79.422564  \n",
      "26                                           Cedarbrae  43.773136 -79.239476  \n",
      "27                                   Hillcrest Village  43.803762 -79.363452  \n",
      "28     Bathurst Manor, Wilson Heights, Downsview North  43.754328 -79.442259  \n",
      "29                                    Thorncliffe Park  43.705369 -79.349372  \n",
      "..                                                 ...        ...        ...  \n",
      "73                  North Toronto West,  Lawrence Park  43.715383 -79.405678  \n",
      "74                 The Annex, North Midtown, Yorkville  43.672710 -79.405678  \n",
      "75                              Parkdale, Roncesvalles  43.648960 -79.456325  \n",
      "76               Canada Post Gateway Processing Centre  43.636966 -79.615819  \n",
      "77   Kingsview Village, St. Phillips, Martin Grove ...  43.688905 -79.554724  \n",
      "78                                           Agincourt  43.794200 -79.262029  \n",
      "79                                          Davisville  43.704324 -79.388790  \n",
      "80                      University of Toronto, Harbord  43.662696 -79.400049  \n",
      "81                                  Runnymede, Swansea  43.651571 -79.484450  \n",
      "82             Clarks Corners, Tam O'Shanter, Sullivan  43.781638 -79.304302  \n",
      "83                         Moore Park, Summerhill East  43.689574 -79.383160  \n",
      "84           Kensington Market, Chinatown, Grange Park  43.653206 -79.400049  \n",
      "85   Milliken, Agincourt North, Steeles East, L'Amo...  43.815252 -79.284577  \n",
      "86   Summerhill West, Rathnelly, South Hill, Forest...  43.686412 -79.400049  \n",
      "87   CN Tower, King and Spadina, Railway Lands, Har...  43.628947 -79.394420  \n",
      "88        New Toronto, Mimico South, Humber Bay Shores  43.605647 -79.501321  \n",
      "89   South Steeles, Silverstone, Humbergate, Jamest...  43.739416 -79.588437  \n",
      "90                       Steeles West, L'Amoreaux West  43.799525 -79.318389  \n",
      "91                                            Rosedale  43.679563 -79.377529  \n",
      "92                                      Stn A PO Boxes  43.646435 -79.374846  \n",
      "93                              Alderwood, Long Branch  43.602414 -79.543484  \n",
      "94                 Northwest, West Humber - Clairville  43.706748 -79.594054  \n",
      "95                                         Upper Rouge  43.836125 -79.205636  \n",
      "96                         St. James Town, Cabbagetown  43.667967 -79.367675  \n",
      "97              First Canadian Place, Underground city  43.648429 -79.382280  \n",
      "98       The Kingsway, Montgomery Road, Old Mill North  43.653654 -79.506944  \n",
      "99                                Church and Wellesley  43.665860 -79.383160  \n",
      "100  Business reply mail Processing Centre, South C...  43.662744 -79.321558  \n",
      "101  Old Mill South, King's Mill Park, Sunnylea, Hu...  43.636258 -79.498509  \n",
      "102  Mimico NW, The Queensway West, South of Bloor,...  43.628841 -79.520999  \n",
      "\n",
      "[103 rows x 5 columns]\n"
     ]
    }
   ],
   "source": [
    "latlong = pd.read_csv('Geospatial_Coordinates.csv')\n",
    "\n",
    "data_df = data_df.merge(latlong,on='Postal Code', how='left')\n",
    "print(data_df)"
   ]
  },
  {
   "cell_type": "markdown",
   "metadata": {},
   "source": [
    "Remove neighborhoods that don't include \"Toronto\" in string"
   ]
  },
  {
   "cell_type": "code",
   "execution_count": 103,
   "metadata": {},
   "outputs": [
    {
     "name": "stdout",
     "output_type": "stream",
     "text": [
      "    Postal Code           Borough  \\\n",
      "2           M5A  Downtown Toronto   \n",
      "4           M7A  Downtown Toronto   \n",
      "9           M5B  Downtown Toronto   \n",
      "15          M5C  Downtown Toronto   \n",
      "19          M4E      East Toronto   \n",
      "20          M5E  Downtown Toronto   \n",
      "24          M5G  Downtown Toronto   \n",
      "25          M6G  Downtown Toronto   \n",
      "30          M5H  Downtown Toronto   \n",
      "31          M6H      West Toronto   \n",
      "36          M5J  Downtown Toronto   \n",
      "37          M6J      West Toronto   \n",
      "41          M4K      East Toronto   \n",
      "42          M5K  Downtown Toronto   \n",
      "43          M6K      West Toronto   \n",
      "47          M4L      East Toronto   \n",
      "48          M5L  Downtown Toronto   \n",
      "54          M4M      East Toronto   \n",
      "61          M4N   Central Toronto   \n",
      "62          M5N   Central Toronto   \n",
      "67          M4P   Central Toronto   \n",
      "68          M5P   Central Toronto   \n",
      "69          M6P      West Toronto   \n",
      "73          M4R   Central Toronto   \n",
      "74          M5R   Central Toronto   \n",
      "75          M6R      West Toronto   \n",
      "79          M4S   Central Toronto   \n",
      "80          M5S  Downtown Toronto   \n",
      "81          M6S      West Toronto   \n",
      "83          M4T   Central Toronto   \n",
      "84          M5T  Downtown Toronto   \n",
      "86          M4V   Central Toronto   \n",
      "87          M5V  Downtown Toronto   \n",
      "91          M4W  Downtown Toronto   \n",
      "92          M5W  Downtown Toronto   \n",
      "96          M4X  Downtown Toronto   \n",
      "97          M5X  Downtown Toronto   \n",
      "99          M4Y  Downtown Toronto   \n",
      "100         M7Y      East Toronto   \n",
      "\n",
      "                                          Neighborhood   Latitude  Longitude  \n",
      "2                            Regent Park, Harbourfront  43.654260 -79.360636  \n",
      "4          Queen's Park, Ontario Provincial Government  43.662301 -79.389494  \n",
      "9                             Garden District, Ryerson  43.657162 -79.378937  \n",
      "15                                      St. James Town  43.651494 -79.375418  \n",
      "19                                         The Beaches  43.676357 -79.293031  \n",
      "20                                         Berczy Park  43.644771 -79.373306  \n",
      "24                                  Central Bay Street  43.657952 -79.387383  \n",
      "25                                            Christie  43.669542 -79.422564  \n",
      "30                            Richmond, Adelaide, King  43.650571 -79.384568  \n",
      "31                        Dufferin, Dovercourt Village  43.669005 -79.442259  \n",
      "36   Harbourfront East, Union Station, Toronto Islands  43.640816 -79.381752  \n",
      "37                            Little Portugal, Trinity  43.647927 -79.419750  \n",
      "41                        The Danforth West, Riverdale  43.679557 -79.352188  \n",
      "42            Toronto Dominion Centre, Design Exchange  43.647177 -79.381576  \n",
      "43        Brockton, Parkdale Village, Exhibition Place  43.636847 -79.428191  \n",
      "47                      India Bazaar, The Beaches West  43.668999 -79.315572  \n",
      "48                      Commerce Court, Victoria Hotel  43.648198 -79.379817  \n",
      "54                                     Studio District  43.659526 -79.340923  \n",
      "61                                       Lawrence Park  43.728020 -79.388790  \n",
      "62                                            Roselawn  43.711695 -79.416936  \n",
      "67                                    Davisville North  43.712751 -79.390197  \n",
      "68     Forest Hill North & West, Forest Hill Road Park  43.696948 -79.411307  \n",
      "69                       High Park, The Junction South  43.661608 -79.464763  \n",
      "73                  North Toronto West,  Lawrence Park  43.715383 -79.405678  \n",
      "74                 The Annex, North Midtown, Yorkville  43.672710 -79.405678  \n",
      "75                              Parkdale, Roncesvalles  43.648960 -79.456325  \n",
      "79                                          Davisville  43.704324 -79.388790  \n",
      "80                      University of Toronto, Harbord  43.662696 -79.400049  \n",
      "81                                  Runnymede, Swansea  43.651571 -79.484450  \n",
      "83                         Moore Park, Summerhill East  43.689574 -79.383160  \n",
      "84           Kensington Market, Chinatown, Grange Park  43.653206 -79.400049  \n",
      "86   Summerhill West, Rathnelly, South Hill, Forest...  43.686412 -79.400049  \n",
      "87   CN Tower, King and Spadina, Railway Lands, Har...  43.628947 -79.394420  \n",
      "91                                            Rosedale  43.679563 -79.377529  \n",
      "92                                      Stn A PO Boxes  43.646435 -79.374846  \n",
      "96                         St. James Town, Cabbagetown  43.667967 -79.367675  \n",
      "97              First Canadian Place, Underground city  43.648429 -79.382280  \n",
      "99                                Church and Wellesley  43.665860 -79.383160  \n",
      "100  Business reply mail Processing Centre, South C...  43.662744 -79.321558  \n"
     ]
    }
   ],
   "source": [
    "data_df = data_df[data_df['Borough'].str.contains('Toronto',regex=False)]\n",
    "print(data_df)"
   ]
  },
  {
   "cell_type": "code",
   "execution_count": 106,
   "metadata": {},
   "outputs": [
    {
     "name": "stdout",
     "output_type": "stream",
     "text": [
      "     ClusterLabels Postal Code           Borough  \\\n",
      "2                0         M5A  Downtown Toronto   \n",
      "4                0         M7A  Downtown Toronto   \n",
      "9                0         M5B  Downtown Toronto   \n",
      "15               0         M5C  Downtown Toronto   \n",
      "19               4         M4E      East Toronto   \n",
      "20               0         M5E  Downtown Toronto   \n",
      "24               0         M5G  Downtown Toronto   \n",
      "25               3         M6G  Downtown Toronto   \n",
      "30               0         M5H  Downtown Toronto   \n",
      "31               1         M6H      West Toronto   \n",
      "36               0         M5J  Downtown Toronto   \n",
      "37               3         M6J      West Toronto   \n",
      "41               4         M4K      East Toronto   \n",
      "42               0         M5K  Downtown Toronto   \n",
      "43               3         M6K      West Toronto   \n",
      "47               4         M4L      East Toronto   \n",
      "48               0         M5L  Downtown Toronto   \n",
      "54               4         M4M      East Toronto   \n",
      "61               2         M4N   Central Toronto   \n",
      "62               2         M5N   Central Toronto   \n",
      "67               2         M4P   Central Toronto   \n",
      "68               2         M5P   Central Toronto   \n",
      "69               1         M6P      West Toronto   \n",
      "73               2         M4R   Central Toronto   \n",
      "74               3         M5R   Central Toronto   \n",
      "75               1         M6R      West Toronto   \n",
      "79               2         M4S   Central Toronto   \n",
      "80               3         M5S  Downtown Toronto   \n",
      "81               1         M6S      West Toronto   \n",
      "83               2         M4T   Central Toronto   \n",
      "84               3         M5T  Downtown Toronto   \n",
      "86               2         M4V   Central Toronto   \n",
      "87               0         M5V  Downtown Toronto   \n",
      "91               0         M4W  Downtown Toronto   \n",
      "92               0         M5W  Downtown Toronto   \n",
      "96               0         M4X  Downtown Toronto   \n",
      "97               0         M5X  Downtown Toronto   \n",
      "99               0         M4Y  Downtown Toronto   \n",
      "100              4         M7Y      East Toronto   \n",
      "\n",
      "                                          Neighborhood   Latitude  Longitude  \n",
      "2                            Regent Park, Harbourfront  43.654260 -79.360636  \n",
      "4          Queen's Park, Ontario Provincial Government  43.662301 -79.389494  \n",
      "9                             Garden District, Ryerson  43.657162 -79.378937  \n",
      "15                                      St. James Town  43.651494 -79.375418  \n",
      "19                                         The Beaches  43.676357 -79.293031  \n",
      "20                                         Berczy Park  43.644771 -79.373306  \n",
      "24                                  Central Bay Street  43.657952 -79.387383  \n",
      "25                                            Christie  43.669542 -79.422564  \n",
      "30                            Richmond, Adelaide, King  43.650571 -79.384568  \n",
      "31                        Dufferin, Dovercourt Village  43.669005 -79.442259  \n",
      "36   Harbourfront East, Union Station, Toronto Islands  43.640816 -79.381752  \n",
      "37                            Little Portugal, Trinity  43.647927 -79.419750  \n",
      "41                        The Danforth West, Riverdale  43.679557 -79.352188  \n",
      "42            Toronto Dominion Centre, Design Exchange  43.647177 -79.381576  \n",
      "43        Brockton, Parkdale Village, Exhibition Place  43.636847 -79.428191  \n",
      "47                      India Bazaar, The Beaches West  43.668999 -79.315572  \n",
      "48                      Commerce Court, Victoria Hotel  43.648198 -79.379817  \n",
      "54                                     Studio District  43.659526 -79.340923  \n",
      "61                                       Lawrence Park  43.728020 -79.388790  \n",
      "62                                            Roselawn  43.711695 -79.416936  \n",
      "67                                    Davisville North  43.712751 -79.390197  \n",
      "68     Forest Hill North & West, Forest Hill Road Park  43.696948 -79.411307  \n",
      "69                       High Park, The Junction South  43.661608 -79.464763  \n",
      "73                  North Toronto West,  Lawrence Park  43.715383 -79.405678  \n",
      "74                 The Annex, North Midtown, Yorkville  43.672710 -79.405678  \n",
      "75                              Parkdale, Roncesvalles  43.648960 -79.456325  \n",
      "79                                          Davisville  43.704324 -79.388790  \n",
      "80                      University of Toronto, Harbord  43.662696 -79.400049  \n",
      "81                                  Runnymede, Swansea  43.651571 -79.484450  \n",
      "83                         Moore Park, Summerhill East  43.689574 -79.383160  \n",
      "84           Kensington Market, Chinatown, Grange Park  43.653206 -79.400049  \n",
      "86   Summerhill West, Rathnelly, South Hill, Forest...  43.686412 -79.400049  \n",
      "87   CN Tower, King and Spadina, Railway Lands, Har...  43.628947 -79.394420  \n",
      "91                                            Rosedale  43.679563 -79.377529  \n",
      "92                                      Stn A PO Boxes  43.646435 -79.374846  \n",
      "96                         St. James Town, Cabbagetown  43.667967 -79.367675  \n",
      "97              First Canadian Place, Underground city  43.648429 -79.382280  \n",
      "99                                Church and Wellesley  43.665860 -79.383160  \n",
      "100  Business reply mail Processing Centre, South C...  43.662744 -79.321558  \n"
     ]
    }
   ],
   "source": [
    "kclusters = 5\n",
    "\n",
    "clusters = data_df.drop(['Postal Code','Borough','Neighborhood'], 1)\n",
    "kmeans = KMeans(n_clusters = kclusters, random_state=0).fit(clusters)\n",
    "kmeans.labels_\n",
    "data_df.insert(0, 'ClusterLabels', kmeans.labels_)\n",
    "\n",
    "print(data_df)"
   ]
  },
  {
   "cell_type": "code",
   "execution_count": 113,
   "metadata": {},
   "outputs": [
    {
     "data": {
      "text/html": [
       "<div style=\"width:100%;\"><div style=\"position:relative;width:100%;height:0;padding-bottom:60%;\"><span style=\"color:#565656\">Make this Notebook Trusted to load map: File -> Trust Notebook</span><iframe src=\"about:blank\" style=\"position:absolute;width:100%;height:100%;left:0;top:0;border:none !important;\" data-html=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 onload=\"this.contentDocument.open();this.contentDocument.write(atob(this.getAttribute('data-html')));this.contentDocument.close();\" allowfullscreen webkitallowfullscreen mozallowfullscreen></iframe></div></div>"
      ],
      "text/plain": [
       "<folium.folium.Map at 0x11b0c850>"
      ]
     },
     "execution_count": 113,
     "metadata": {},
     "output_type": "execute_result"
    }
   ],
   "source": [
    "map_clusters = folium.Map(location=[43.651070,-79.347015], zoom_start=11)\n",
    "\n",
    "\n",
    "x = np.arange(kclusters)\n",
    "ys = [i + x + (i*x)**2 for i in range(kclusters)]\n",
    "colors_array = cm.rainbow(np.linspace(0, 1, len(ys)))\n",
    "rainbow = [colors.rgb2hex(i) for i in colors_array]\n",
    "\n",
    "markers_colors = []\n",
    "for lat, lon, neighbourhood, cluster in zip(data_df['Latitude'], data_df['Longitude'], data_df['Neighborhood'], data_df['ClusterLabels']):\n",
    "    label = folium.Popup(' Cluster ' + str(cluster), parse_html=True)\n",
    "    folium.CircleMarker(\n",
    "        [lat, lon],\n",
    "        radius = 4,\n",
    "        popup = label,\n",
    "        color = rainbow[cluster-1],\n",
    "        fill = True,\n",
    "        fill_color = rainbow[cluster-1],\n",
    "        fill_opacity = 0.5).add_to(map_clusters)\n",
    "       \n",
    "map_clusters"
   ]
  }
 ],
 "metadata": {
  "kernelspec": {
   "display_name": "Python 3",
   "language": "python",
   "name": "python3"
  },
  "language_info": {
   "codemirror_mode": {
    "name": "ipython",
    "version": 3
   },
   "file_extension": ".py",
   "mimetype": "text/x-python",
   "name": "python",
   "nbconvert_exporter": "python",
   "pygments_lexer": "ipython3",
   "version": "3.6.3"
  }
 },
 "nbformat": 4,
 "nbformat_minor": 2
}
