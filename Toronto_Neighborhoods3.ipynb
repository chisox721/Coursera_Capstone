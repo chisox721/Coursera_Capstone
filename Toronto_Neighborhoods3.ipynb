{
 "cells": [
  {
   "cell_type": "code",
   "execution_count": 47,
   "metadata": {},
   "outputs": [],
   "source": [
    "import pandas as pd\n",
    "import requests\n",
    "from bs4 import BeautifulSoup"
   ]
  },
  {
   "cell_type": "markdown",
   "metadata": {},
   "source": [
    "Scrape the table from URL"
   ]
  },
  {
   "cell_type": "code",
   "execution_count": 48,
   "metadata": {},
   "outputs": [],
   "source": [
    "url = 'https://en.wikipedia.org/wiki/List_of_postal_codes_of_Canada:_M'\n",
    "page_request = requests.get(url).text\n",
    "soup = BeautifulSoup(page_request, 'lxml')\n",
    "\n",
    "table = soup.find('table')\n",
    "data_rows = table.findAll('tr') \n",
    "data = [[td.getText().strip() for td in data_rows[i].findAll(['td','th'])]\n",
    "    for i in range(len(data_rows))]"
   ]
  },
  {
   "cell_type": "markdown",
   "metadata": {},
   "source": [
    "Create dataframe and clean it"
   ]
  },
  {
   "cell_type": "code",
   "execution_count": 49,
   "metadata": {},
   "outputs": [],
   "source": [
    "data_df = pd.DataFrame(data,columns=['Postal Code','Borough','Neighborhood']).iloc[1:]\n",
    "data_df = data_df[data_df.Borough != 'Not assigned']"
   ]
  },
  {
   "cell_type": "markdown",
   "metadata": {},
   "source": [
    "Print the shape of dataframe"
   ]
  },
  {
   "cell_type": "code",
   "execution_count": 50,
   "metadata": {},
   "outputs": [
    {
     "name": "stdout",
     "output_type": "stream",
     "text": [
      "(103, 3)\n"
     ]
    }
   ],
   "source": [
    "print(data_df.shape)\n",
    "\n"
   ]
  },
  {
   "cell_type": "markdown",
   "metadata": {},
   "source": [
    "Retrieve Latitude and longitude for neighborhoods"
   ]
  },
  {
   "cell_type": "code",
   "execution_count": 52,
   "metadata": {},
   "outputs": [
    {
     "name": "stdout",
     "output_type": "stream",
     "text": [
      "    Postal Code   Latitude  Longitude\n",
      "0           M1B  43.806686 -79.194353\n",
      "1           M1C  43.784535 -79.160497\n",
      "2           M1E  43.763573 -79.188711\n",
      "3           M1G  43.770992 -79.216917\n",
      "4           M1H  43.773136 -79.239476\n",
      "5           M1J  43.744734 -79.239476\n",
      "6           M1K  43.727929 -79.262029\n",
      "7           M1L  43.711112 -79.284577\n",
      "8           M1M  43.716316 -79.239476\n",
      "9           M1N  43.692657 -79.264848\n",
      "10          M1P  43.757410 -79.273304\n",
      "11          M1R  43.750072 -79.295849\n",
      "12          M1S  43.794200 -79.262029\n",
      "13          M1T  43.781638 -79.304302\n",
      "14          M1V  43.815252 -79.284577\n",
      "15          M1W  43.799525 -79.318389\n",
      "16          M1X  43.836125 -79.205636\n",
      "17          M2H  43.803762 -79.363452\n",
      "18          M2J  43.778517 -79.346556\n",
      "19          M2K  43.786947 -79.385975\n",
      "20          M2L  43.757490 -79.374714\n",
      "21          M2M  43.789053 -79.408493\n",
      "22          M2N  43.770120 -79.408493\n",
      "23          M2P  43.752758 -79.400049\n",
      "24          M2R  43.782736 -79.442259\n",
      "25          M3A  43.753259 -79.329656\n",
      "26          M3B  43.745906 -79.352188\n",
      "27          M3C  43.725900 -79.340923\n",
      "28          M3H  43.754328 -79.442259\n",
      "29          M3J  43.767980 -79.487262\n",
      "..          ...        ...        ...\n",
      "73          M6C  43.693781 -79.428191\n",
      "74          M6E  43.689026 -79.453512\n",
      "75          M6G  43.669542 -79.422564\n",
      "76          M6H  43.669005 -79.442259\n",
      "77          M6J  43.647927 -79.419750\n",
      "78          M6K  43.636847 -79.428191\n",
      "79          M6L  43.713756 -79.490074\n",
      "80          M6M  43.691116 -79.476013\n",
      "81          M6N  43.673185 -79.487262\n",
      "82          M6P  43.661608 -79.464763\n",
      "83          M6R  43.648960 -79.456325\n",
      "84          M6S  43.651571 -79.484450\n",
      "85          M7A  43.662301 -79.389494\n",
      "86          M7R  43.636966 -79.615819\n",
      "87          M7Y  43.662744 -79.321558\n",
      "88          M8V  43.605647 -79.501321\n",
      "89          M8W  43.602414 -79.543484\n",
      "90          M8X  43.653654 -79.506944\n",
      "91          M8Y  43.636258 -79.498509\n",
      "92          M8Z  43.628841 -79.520999\n",
      "93          M9A  43.667856 -79.532242\n",
      "94          M9B  43.650943 -79.554724\n",
      "95          M9C  43.643515 -79.577201\n",
      "96          M9L  43.756303 -79.565963\n",
      "97          M9M  43.724766 -79.532242\n",
      "98          M9N  43.706876 -79.518188\n",
      "99          M9P  43.696319 -79.532242\n",
      "100         M9R  43.688905 -79.554724\n",
      "101         M9V  43.739416 -79.588437\n",
      "102         M9W  43.706748 -79.594054\n",
      "\n",
      "[103 rows x 3 columns]\n"
     ]
    }
   ],
   "source": [
    "latlong = pd.read_csv('Geospatial_Coordinates.csv')\n",
    "\n",
    "data_df = data_df.merge(latlong,on='Postal Code', how='left')\n",
    "print(latlong)"
   ]
  },
  {
   "cell_type": "code",
   "execution_count": null,
   "metadata": {},
   "outputs": [],
   "source": []
  },
  {
   "cell_type": "code",
   "execution_count": null,
   "metadata": {},
   "outputs": [],
   "source": []
  }
 ],
 "metadata": {
  "kernelspec": {
   "display_name": "Python 3",
   "language": "python",
   "name": "python3"
  },
  "language_info": {
   "codemirror_mode": {
    "name": "ipython",
    "version": 3
   },
   "file_extension": ".py",
   "mimetype": "text/x-python",
   "name": "python",
   "nbconvert_exporter": "python",
   "pygments_lexer": "ipython3",
   "version": "3.6.3"
  }
 },
 "nbformat": 4,
 "nbformat_minor": 2
}
